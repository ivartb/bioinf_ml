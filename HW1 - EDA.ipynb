{
 "cells": [
  {
   "cell_type": "markdown",
   "metadata": {},
   "source": [
    "## Загрузка библиотек"
   ]
  },
  {
   "cell_type": "code",
   "execution_count": 1,
   "metadata": {},
   "outputs": [],
   "source": [
    "import pandas as pd\n",
    "import matplotlib.pyplot as plt"
   ]
  },
  {
   "cell_type": "markdown",
   "metadata": {},
   "source": [
    "## Загрузка данных"
   ]
  },
  {
   "cell_type": "markdown",
   "metadata": {},
   "source": [
    "### Задание 1 (0.5 балла)\n",
    "\n",
    "Для начала работы нам необходимо научиться читать набор данных. В данном домашнем задании мы поработаем с двумя наборами данных.\n",
    "\n",
    "__covid.csv__ ([источник](https://www.kaggle.com/gpreda/covid-world-vaccination-progress)) - статистика по вакцинированию от COVID19 по разным странам. Для данного датасета нет конкретной предсказательной переменной.\n",
    "\n",
    "__hr.csv__ ([источник](https://www.kaggle.com/arashnic/hr-analytics-job-change-of-data-scientists)) - набор данных большего размера. Он содержит статистику по людям, проходящим курсы по Big Data & ML. _Target_ - 1 или 0, сменил ли человек работу после прохождения курсов - или нет.\n",
    "\n",
    "Реализуйте методы `read_covid_dataset` и `read_hr_dataset`. Каждый из них принимает на вход путь к набору данных и возвращает выборку `X` и соответствующие метки `y`. В случае _covid_ датасета `y` возвращается как `None`. "
   ]
  },
  {
   "cell_type": "code",
   "execution_count": 2,
   "metadata": {},
   "outputs": [],
   "source": [
    "def read_covid_dataset(path_to_csv):\n",
    "    # Возвращает пару из X и y. X - массив векторов. y - соответствующие векторам метки\n",
    "    df = pd.read_csv(path_to_csv, header=0)\n",
    "    return df, None\n",
    "\n",
    "\n",
    "def read_hr_dataset(path_to_csv):\n",
    "    # Возвращает пару из X и y. X - массив векторов. y - соответствующие векторам метки\n",
    "    df = pd.read_csv(path_to_csv, header=0, index_col=0)\n",
    "    y = df[\"target\"]\n",
    "    return df.drop(\"target\", axis=1), y"
   ]
  },
  {
   "cell_type": "code",
   "execution_count": 3,
   "metadata": {},
   "outputs": [],
   "source": [
    "COVID_DATA_PATH = \"hw1_data/covid.csv\" # YOUR_CODE\n",
    "HR_DATA_PATH = \"hw1_data/hr.csv\" # YOUR_CODE "
   ]
  },
  {
   "cell_type": "code",
   "execution_count": 4,
   "metadata": {},
   "outputs": [
    {
     "name": "stdout",
     "output_type": "stream",
     "text": [
      "                 city  city_development_index gender      relevent_experience  \\\n",
      "enrollee_id                                                                     \n",
      "8949         city_103                   0.920   Male  Has relevent experience   \n",
      "29725         city_40                   0.776   Male   No relevent experience   \n",
      "11561         city_21                   0.624    NaN   No relevent experience   \n",
      "33241        city_115                   0.789    NaN   No relevent experience   \n",
      "666          city_162                   0.767   Male  Has relevent experience   \n",
      "...               ...                     ...    ...                      ...   \n",
      "7386         city_173                   0.878   Male   No relevent experience   \n",
      "31398        city_103                   0.920   Male  Has relevent experience   \n",
      "24576        city_103                   0.920   Male  Has relevent experience   \n",
      "5756          city_65                   0.802   Male  Has relevent experience   \n",
      "23834         city_67                   0.855    NaN   No relevent experience   \n",
      "\n",
      "            enrolled_university education_level major_discipline experience  \\\n",
      "enrollee_id                                                                   \n",
      "8949              no_enrollment        Graduate             STEM        >20   \n",
      "29725             no_enrollment        Graduate             STEM         15   \n",
      "11561          Full time course        Graduate             STEM          5   \n",
      "33241                       NaN        Graduate  Business Degree         <1   \n",
      "666               no_enrollment         Masters             STEM        >20   \n",
      "...                         ...             ...              ...        ...   \n",
      "7386              no_enrollment        Graduate       Humanities         14   \n",
      "31398             no_enrollment        Graduate             STEM         14   \n",
      "24576             no_enrollment        Graduate             STEM        >20   \n",
      "5756              no_enrollment     High School              NaN         <1   \n",
      "23834             no_enrollment  Primary School              NaN          2   \n",
      "\n",
      "            company_size    company_type last_new_job  training_hours  \n",
      "enrollee_id                                                            \n",
      "8949                 NaN             NaN            1              36  \n",
      "29725              50-99         Pvt Ltd           >4              47  \n",
      "11561                NaN             NaN        never              83  \n",
      "33241                NaN         Pvt Ltd        never              52  \n",
      "666                50-99  Funded Startup            4               8  \n",
      "...                  ...             ...          ...             ...  \n",
      "7386                 NaN             NaN            1              42  \n",
      "31398                NaN             NaN            4              52  \n",
      "24576              50-99         Pvt Ltd            4              44  \n",
      "5756             500-999         Pvt Ltd            2              97  \n",
      "23834                NaN             NaN            1             127  \n",
      "\n",
      "[19158 rows x 12 columns] enrollee_id\n",
      "8949     1.0\n",
      "29725    0.0\n",
      "11561    0.0\n",
      "33241    1.0\n",
      "666      0.0\n",
      "        ... \n",
      "7386     1.0\n",
      "31398    1.0\n",
      "24576    0.0\n",
      "5756     0.0\n",
      "23834    0.0\n",
      "Name: target, Length: 19158, dtype: float64\n"
     ]
    }
   ],
   "source": [
    "X_covid, _ = read_covid_dataset(COVID_DATA_PATH)\n",
    "X_hr, y_hr = read_hr_dataset(HR_DATA_PATH)\n",
    "\n",
    "print(X_hr, y_hr)"
   ]
  },
  {
   "cell_type": "markdown",
   "metadata": {},
   "source": [
    "## EDA"
   ]
  },
  {
   "cell_type": "markdown",
   "metadata": {},
   "source": [
    "### Задание 2 (3.5 балла)\n",
    "\n",
    "Выполните задание для датасетa _hr_.\n",
    "\n",
    "Для дальнейшей работы с данными нужно обработать пропущенные значения в датасете.\n",
    "Существуют различные стратегии обработки пропущенных данных."
   ]
  },
  {
   "cell_type": "markdown",
   "metadata": {},
   "source": [
    "#### 1.  (0.5 балла)\n",
    "\n",
    "Для числовых признаков постройте распределения признаков. Для категориальных признаков выведите статистику по количеству значений признака."
   ]
  },
  {
   "cell_type": "code",
   "execution_count": 5,
   "metadata": {},
   "outputs": [
    {
     "name": "stdout",
     "output_type": "stream",
     "text": [
      "Index(['city', 'city_development_index', 'gender', 'relevent_experience',\n",
      "       'enrolled_university', 'education_level', 'major_discipline',\n",
      "       'experience', 'company_size', 'company_type', 'last_new_job',\n",
      "       'training_hours'],\n",
      "      dtype='object')\n"
     ]
    },
    {
     "data": {
      "image/png": "[encoded data removed]",
      "text/plain": [
       "<Figure size 432x288 with 1 Axes>"
      ]
     },
     "metadata": {
      "needs_background": "light"
     },
     "output_type": "display_data"
    },
    {
     "data": {
      "image/png": "[encoded data removed]",
      "text/plain": [
       "<Figure size 432x288 with 1 Axes>"
      ]
     },
     "metadata": {
      "needs_background": "light"
     },
     "output_type": "display_data"
    },
    {
     "name": "stdout",
     "output_type": "stream",
     "text": [
      "gender {'Male': 13221, nan: 4508, 'Female': 1238, 'Other': 191}\n",
      "relevent_experience {'Has relevent experience': 13792, 'No relevent experience': 5366}\n",
      "enrolled_university {'no_enrollment': 13817, 'Full time course': 3757, nan: 386, 'Part time course': 1198}\n",
      "education_level {'Graduate': 11598, 'Masters': 4361, 'High School': 2017, nan: 460, 'Phd': 414, 'Primary School': 308}\n",
      "major_discipline {'STEM': 14492, 'Business Degree': 327, nan: 2813, 'Arts': 253, 'Humanities': 669, 'No Major': 223, 'Other': 381}\n",
      "experience {'>20': 3286, '15': 686, '5': 1430, '<1': 522, '11': 664, '13': 399, '7': 1028, '17': 342, '2': 1127, '16': 508, '1': 549, '4': 1403, '10': 985, '14': 586, '18': 280, '19': 304, '12': 494, '3': 1354, '6': 1216, '9': 980, '8': 802, '20': 148, nan: 65}\n",
      "company_size {nan: 5938, '50-99': 3083, '<10': 1308, '10000+': 2019, '5000-9999': 563, '1000-4999': 1328, '10/49': 1471, '100-500': 2571, '500-999': 877}\n",
      "company_type {nan: 6140, 'Pvt Ltd': 9817, 'Funded Startup': 1001, 'Early Stage Startup': 603, 'Other': 121, 'Public Sector': 955, 'NGO': 521}\n",
      "last_new_job {'1': 8040, '>4': 3290, 'never': 2452, '4': 1029, '3': 1024, '2': 2900, nan: 423}\n"
     ]
    },
    {
     "data": {
      "text/plain": [
       "<Figure size 432x288 with 0 Axes>"
      ]
     },
     "metadata": {},
     "output_type": "display_data"
    }
   ],
   "source": [
    "# YOUR_CODE\n",
    "print(X_hr.columns)\n",
    "\n",
    "def get_distr(df):\n",
    "    numeric = ['city_development_index', 'training_hours']\n",
    "    categorical = ['gender',\n",
    "           'relevent_experience', 'enrolled_university', 'education_level',\n",
    "           'major_discipline', 'experience', 'company_size', 'company_type',\n",
    "           'last_new_job']\n",
    "\n",
    "    for f in numeric:\n",
    "        if f in df.columns:\n",
    "            plt.hist(df[f])\n",
    "            plt.title(f)\n",
    "            plt.show()\n",
    "            plt.clf()\n",
    "\n",
    "    for f in categorical:\n",
    "        if f in df.columns:\n",
    "            d = dict()\n",
    "            for i in df[f]:\n",
    "                if i not in d:\n",
    "                    d[i] = 0\n",
    "                d[i] += 1\n",
    "            print(f, d)\n",
    "        \n",
    "get_distr(X_hr)"
   ]
  },
  {
   "cell_type": "markdown",
   "metadata": {},
   "source": [
    "#### 2.  (0.5 балла)\n",
    "Удалите все строки, где есть хотя бы одно пропущенное значение признака. Насколько сильно уменьшился размер датасета? Как изменились распределения признаков/статистика по количеству значений признаков?"
   ]
  },
  {
   "cell_type": "code",
   "execution_count": 6,
   "metadata": {},
   "outputs": [
    {
     "name": "stdout",
     "output_type": "stream",
     "text": [
      "Исходный размер датасета hr 19158\n"
     ]
    }
   ],
   "source": [
    "print(f'Исходный размер датасета hr {len(X_hr)}')"
   ]
  },
  {
   "cell_type": "code",
   "execution_count": 7,
   "metadata": {},
   "outputs": [],
   "source": [
    "X_hr_dropna = X_hr.dropna()# YOUR_CODE"
   ]
  },
  {
   "cell_type": "code",
   "execution_count": 8,
   "metadata": {},
   "outputs": [
    {
     "name": "stdout",
     "output_type": "stream",
     "text": [
      "Pазмер датасета hr без NaN 8955\n"
     ]
    }
   ],
   "source": [
    "print(f'Pазмер датасета hr без NaN {len(X_hr_dropna)}')"
   ]
  },
  {
   "cell_type": "code",
   "execution_count": 9,
   "metadata": {},
   "outputs": [
    {
     "data": {
      "image/png": "[encoded data removed]",
      "text/plain": [
       "<Figure size 432x288 with 1 Axes>"
      ]
     },
     "metadata": {
      "needs_background": "light"
     },
     "output_type": "display_data"
    },
    {
     "data": {
      "image/png": "[encoded data removed]",
      "text/plain": [
       "<Figure size 432x288 with 1 Axes>"
      ]
     },
     "metadata": {
      "needs_background": "light"
     },
     "output_type": "display_data"
    },
    {
     "name": "stdout",
     "output_type": "stream",
     "text": [
      "gender {'Male': 8073, 'Female': 804, 'Other': 78}\n",
      "relevent_experience {'No relevent experience': 1104, 'Has relevent experience': 7851}\n",
      "enrolled_university {'no_enrollment': 7594, 'Part time course': 529, 'Full time course': 832}\n",
      "education_level {'Graduate': 6252, 'Masters': 2449, 'Phd': 254}\n",
      "major_discipline {'STEM': 7989, 'Humanities': 378, 'Business Degree': 170, 'Other': 177, 'No Major': 112, 'Arts': 129}\n",
      "experience {'15': 398, '>20': 1881, '13': 235, '7': 485, '5': 575, '16': 304, '11': 372, '<1': 97, '18': 168, '19': 179, '12': 293, '10': 551, '9': 533, '2': 297, '6': 535, '4': 480, '14': 333, '3': 428, '8': 398, '17': 206, '20': 86, '1': 121}\n",
      "company_size {'50-99': 1986, '<10': 840, '5000-9999': 393, '1000-4999': 930, '10/49': 951, '100-500': 1814, '10000+': 1449, '500-999': 592}\n",
      "company_type {'Pvt Ltd': 6794, 'Funded Startup': 784, 'Early Stage Startup': 385, 'Public Sector': 564, 'NGO': 356, 'Other': 72}\n",
      "last_new_job {'>4': 1965, '4': 599, '1': 3838, '3': 610, '2': 1570, 'never': 373}\n"
     ]
    },
    {
     "data": {
      "text/plain": [
       "<Figure size 432x288 with 0 Axes>"
      ]
     },
     "metadata": {},
     "output_type": "display_data"
    }
   ],
   "source": [
    "get_distr(X_hr_dropna)"
   ]
  },
  {
   "cell_type": "markdown",
   "metadata": {},
   "source": [
    "Датасет уменьшился больше чем в два раза. Людей с опытом стало значительно больше, все стали с высшим образованием, распределение признаков изменилось."
   ]
  },
  {
   "cell_type": "markdown",
   "metadata": {},
   "source": [
    "Давайте попробуем избежать сокращения размера датасета."
   ]
  },
  {
   "cell_type": "markdown",
   "metadata": {},
   "source": [
    "#### 3.  (1 балл)\n",
    "Для числовых признаков заполните пропущенные данные средним/медианой/модой данного признака. Объясните свой выбор. (Часть строк с NaN значениями можно удалить, если размер датасета уменьшится <15%)"
   ]
  },
  {
   "cell_type": "markdown",
   "metadata": {},
   "source": [
    "#### 4.  (1 балл)\n",
    "Для категориальных признаков заполните пропущенные значения самой встречающейся категорией или создайте отдельную категорию пропущенных значений. Объясните свой выбор. (Часть строк с NaN значениями можно удалить, если размер датасета уменьшится <15%)"
   ]
  },
  {
   "cell_type": "markdown",
   "metadata": {},
   "source": [
    "Удаляем строки там где мало nan значений. Остальные заполняем отдельной категорией, чтобы не вносить искажения в данные."
   ]
  },
  {
   "cell_type": "code",
   "execution_count": 10,
   "metadata": {},
   "outputs": [],
   "source": [
    "def fill_na(X, y):\n",
    "    values = {'gender': 'empty', 'major_discipline': 'empty', 'company_size': 'empty', 'company_type': 'empty'}\n",
    "    X_fill = X.fillna(value=values)\n",
    "    X_fill = X_fill.dropna()\n",
    "    #print(X_fill.index.values)\n",
    "    y_fill = y[y.index.isin(X_fill.index.values)]\n",
    "    # Возвращает данные без NaN значений\n",
    "    return X_fill, y_fill"
   ]
  },
  {
   "cell_type": "code",
   "execution_count": 11,
   "metadata": {},
   "outputs": [
    {
     "name": "stdout",
     "output_type": "stream",
     "text": [
      "18014 18014\n"
     ]
    }
   ],
   "source": [
    "X_hr_fill, y_hr_fill = fill_na(X_hr, y_hr)\n",
    "print(len(X_hr_fill), len(y_hr_fill))"
   ]
  },
  {
   "cell_type": "markdown",
   "metadata": {},
   "source": [
    "#### 5.  (0.5 балла)\n",
    "Как изменились распределения признаков/статистика по количеству значений признаков после заполнения пропущенных данных?"
   ]
  },
  {
   "cell_type": "code",
   "execution_count": 12,
   "metadata": {},
   "outputs": [
    {
     "data": {
      "image/png": "[encoded data removed]",
      "text/plain": [
       "<Figure size 432x288 with 1 Axes>"
      ]
     },
     "metadata": {
      "needs_background": "light"
     },
     "output_type": "display_data"
    },
    {
     "data": {
      "image/png": "[encoded data removed]",
      "text/plain": [
       "<Figure size 432x288 with 1 Axes>"
      ]
     },
     "metadata": {
      "needs_background": "light"
     },
     "output_type": "display_data"
    },
    {
     "name": "stdout",
     "output_type": "stream",
     "text": [
      "gender {'Male': 12772, 'empty': 3863, 'Female': 1206, 'Other': 173}\n",
      "relevent_experience {'Has relevent experience': 13190, 'No relevent experience': 4824}\n",
      "enrolled_university {'no_enrollment': 13348, 'Full time course': 3517, 'Part time course': 1149}\n",
      "education_level {'Graduate': 11188, 'Masters': 4228, 'High School': 1908, 'Phd': 399, 'Primary School': 291}\n",
      "major_discipline {'STEM': 13993, 'empty': 2222, 'Arts': 248, 'Humanities': 653, 'Business Degree': 322, 'No Major': 212, 'Other': 364}\n",
      "experience {'>20': 3182, '15': 668, '5': 1337, '11': 649, '13': 387, '7': 982, '17': 331, '2': 997, '16': 488, '1': 475, '4': 1298, '10': 946, '<1': 451, '14': 569, '18': 273, '19': 294, '12': 475, '6': 1143, '9': 936, '3': 1223, '8': 768, '20': 142}\n",
      "company_size {'empty': 5310, '50-99': 2950, '<10': 1242, '10000+': 1964, '5000-9999': 542, '1000-4999': 1282, '10/49': 1394, '100-500': 2483, '500-999': 847}\n",
      "company_type {'empty': 5476, 'Pvt Ltd': 9475, 'Funded Startup': 975, 'Early Stage Startup': 562, 'Other': 114, 'Public Sector': 912, 'NGO': 500}\n",
      "last_new_job {'1': 7789, '>4': 3210, 'never': 2187, '4': 1010, '3': 991, '2': 2827}\n"
     ]
    },
    {
     "data": {
      "text/plain": [
       "<Figure size 432x288 with 0 Axes>"
      ]
     },
     "metadata": {},
     "output_type": "display_data"
    }
   ],
   "source": [
    "# YOUR_CODE\n",
    "get_distr(X_hr_fill)"
   ]
  },
  {
   "cell_type": "markdown",
   "metadata": {},
   "source": [
    "Датасет уменьшился на 6%, при этом относительные распределения исходных значений признаков сохранились."
   ]
  },
  {
   "cell_type": "markdown",
   "metadata": {},
   "source": [
    "### Задание 3 (1 балл)\n",
    "\n",
    "Выполните задание для датасета _covid_.\n",
    "\n",
    "1. Найдите страну, для которой в датасете присутствует 46 дат со статистикой по вакцинации.\n",
    "2. Постройте для этой страны график зависимости _total_vaccinations_ от _date_.\n",
    "3. Заполните пропущенные данные о _total_vaccinations_ для этой страны. Объясните свой выбор."
   ]
  },
  {
   "cell_type": "code",
   "execution_count": 13,
   "metadata": {},
   "outputs": [
    {
     "name": "stdout",
     "output_type": "stream",
     "text": [
      "Bahrain\n"
     ]
    },
    {
     "data": {
      "image/png": "[encoded data removed]",
      "text/plain": [
       "<Figure size 432x288 with 1 Axes>"
      ]
     },
     "metadata": {
      "needs_background": "light"
     },
     "output_type": "display_data"
    },
    {
     "data": {
      "image/png": "[encoded data removed]",
      "text/plain": [
       "<Figure size 432x288 with 1 Axes>"
      ]
     },
     "metadata": {
      "needs_background": "light"
     },
     "output_type": "display_data"
    },
    {
     "data": {
      "text/plain": [
       "<Figure size 432x288 with 0 Axes>"
      ]
     },
     "metadata": {},
     "output_type": "display_data"
    }
   ],
   "source": [
    "# YOUR_CODE\n",
    "d = dict()\n",
    "for i in X_covid['country']:\n",
    "    if i not in d:\n",
    "        d[i] = 0\n",
    "    d[i] += 1\n",
    "    \n",
    "key = None\n",
    "for k, v in d.items():\n",
    "    if v == 46:\n",
    "        print(k)\n",
    "        key = k\n",
    "        \n",
    "dat = X_covid[X_covid['country'] == key].copy()\n",
    "plt.plot(dat['date'], dat['total_vaccinations'])\n",
    "plt.xticks(rotation=90)\n",
    "plt.show()\n",
    "plt.clf()\n",
    "\n",
    "start = dat.loc[dat['date']=='2021-01-26', 'total_vaccinations'].iloc[0]\n",
    "end = dat.loc[dat['date']=='2021-01-20', 'total_vaccinations'].iloc[0]\n",
    "delta = (start - end) / 6\n",
    "\n",
    "dat.loc[dat['date']=='2021-01-21', 'total_vaccinations'] = end + delta * 1\n",
    "dat.loc[dat['date']=='2021-01-22', 'total_vaccinations'] = end + delta * 2\n",
    "dat.loc[dat['date']=='2021-01-23', 'total_vaccinations'] = end + delta * 3\n",
    "dat.loc[dat['date']=='2021-01-24', 'total_vaccinations'] = end + delta * 4\n",
    "dat.loc[dat['date']=='2021-01-25', 'total_vaccinations'] = end + delta * 5\n",
    "\n",
    "\n",
    "plt.plot(dat['date'], dat['total_vaccinations'])\n",
    "plt.xticks(rotation=90)\n",
    "plt.show()\n",
    "plt.clf()"
   ]
  },
  {
   "cell_type": "markdown",
   "metadata": {},
   "source": [
    "Вид первого графика предполагает линейную динамику изменения признака, поэтому данные заполнены линейной интерполяцией"
   ]
  },
  {
   "cell_type": "markdown",
   "metadata": {},
   "source": [
    "### Задание 4  (0.5 балла)\n",
    "Выполните задание для датасета _hr_.\n",
    "\n",
    "Есть ли в данных выбросы? Если да, то скажите, какие и почему Вы считаете их выбросами?\n"
   ]
  },
  {
   "cell_type": "code",
   "execution_count": 14,
   "metadata": {},
   "outputs": [],
   "source": [
    "# YOUR_CODE"
   ]
  },
  {
   "cell_type": "markdown",
   "metadata": {},
   "source": [
    "Исходя из распределения значений признаков и возможных диапазонов значений, выбросы в данных не обнаружены"
   ]
  },
  {
   "cell_type": "markdown",
   "metadata": {},
   "source": [
    "### Задание 5  (1 балл)\n",
    "Выполните задание для датасета _hr_.\n",
    "\n",
    "Закодируйте категориальные признаки при помощи One-hot encoding/Label encoding/Frequency encoding. Объясните свой выбор. (Обратите внимание, что некоторые категориальные признаки предполагают ранжирование в своих значениях)\n"
   ]
  },
  {
   "cell_type": "code",
   "execution_count": 15,
   "metadata": {},
   "outputs": [],
   "source": [
    "from sklearn.preprocessing import LabelBinarizer as LB\n",
    "from sklearn.preprocessing import OneHotEncoder as OHE\n",
    "\n",
    "def encode(X):\n",
    "    # Возвращает данные без категориальных признаков\n",
    "    #print(X.columns)\n",
    "    ohe_df = X[['gender', 'relevent_experience', 'major_discipline', 'enrolled_university', 'company_type']].copy()\n",
    "    ohe = OHE(sparse=False).fit(ohe_df)\n",
    "    cols = [j for i in ohe.categories_ for j in i]\n",
    "    ohe_df = pd.DataFrame(ohe.transform(ohe_df.values), columns=cols, index=X.index)\n",
    "    #print(ohe_df.shape)\n",
    "    \n",
    "    lbl_df = X[['city', 'city_development_index', 'education_level', \n",
    "       'experience', 'company_size', 'last_new_job', 'training_hours']].copy()\n",
    "    d = dict(zip(list(set(lbl_df.loc[:, 'city'])), range(len(list(set(lbl_df.loc[:, 'city']))))))\n",
    "    lbl_df[\"city\"].replace(d, inplace=True)\n",
    "    d = {'Graduate': 2, 'Masters': 3, 'High School': 1, 'Phd': 4, 'Primary School': 0}\n",
    "    lbl_df[\"education_level\"].replace(d, inplace=True)\n",
    "    d = {'>20': 21, '<1': 0}\n",
    "    lbl_df[\"experience\"].replace(d, inplace=True)\n",
    "    d = {'empty': 0, '50-99': 3, '<10': 1, '10000+': 8, '5000-9999': 7, '1000-4999': 6, '10/49': 2, '100-500': 4, '500-999': 5}\n",
    "    lbl_df[\"company_size\"].replace(d, inplace=True)\n",
    "    d = {'never': 0, '>4': 5}\n",
    "    lbl_df[\"last_new_job\"].replace(d, inplace=True)\n",
    "    #print(lbl_df.shape)\n",
    "    X_encode = pd.concat([ohe_df, lbl_df], axis=1)\n",
    "    return X_encode"
   ]
  },
  {
   "cell_type": "code",
   "execution_count": 16,
   "metadata": {},
   "outputs": [
    {
     "name": "stdout",
     "output_type": "stream",
     "text": [
      "             Female  Male  Other  empty  Has relevent experience  \\\n",
      "enrollee_id                                                        \n",
      "8949            0.0   1.0    0.0    0.0                      1.0   \n",
      "29725           0.0   1.0    0.0    0.0                      0.0   \n",
      "11561           0.0   0.0    0.0    1.0                      0.0   \n",
      "666             0.0   1.0    0.0    0.0                      1.0   \n",
      "21651           0.0   0.0    0.0    1.0                      1.0   \n",
      "...             ...   ...    ...    ...                      ...   \n",
      "7386            0.0   1.0    0.0    0.0                      0.0   \n",
      "31398           0.0   1.0    0.0    0.0                      1.0   \n",
      "24576           0.0   1.0    0.0    0.0                      1.0   \n",
      "5756            0.0   1.0    0.0    0.0                      1.0   \n",
      "23834           0.0   0.0    0.0    1.0                      0.0   \n",
      "\n",
      "             No relevent experience  Arts  Business Degree  Humanities  \\\n",
      "enrollee_id                                                              \n",
      "8949                            0.0   0.0              0.0         0.0   \n",
      "29725                           1.0   0.0              0.0         0.0   \n",
      "11561                           1.0   0.0              0.0         0.0   \n",
      "666                             0.0   0.0              0.0         0.0   \n",
      "21651                           0.0   0.0              0.0         0.0   \n",
      "...                             ...   ...              ...         ...   \n",
      "7386                            1.0   0.0              0.0         1.0   \n",
      "31398                           0.0   0.0              0.0         0.0   \n",
      "24576                           0.0   0.0              0.0         0.0   \n",
      "5756                            0.0   0.0              0.0         0.0   \n",
      "23834                           1.0   0.0              0.0         0.0   \n",
      "\n",
      "             No Major  ...  Public Sector  Pvt Ltd  empty  city  \\\n",
      "enrollee_id            ...                                        \n",
      "8949              0.0  ...            0.0      0.0    1.0     8   \n",
      "29725             0.0  ...            0.0      1.0    0.0    65   \n",
      "11561             0.0  ...            0.0      0.0    1.0    55   \n",
      "666               0.0  ...            0.0      0.0    0.0   115   \n",
      "21651             0.0  ...            0.0      0.0    1.0   117   \n",
      "...               ...  ...            ...      ...    ...   ...   \n",
      "7386              0.0  ...            0.0      0.0    1.0    27   \n",
      "31398             0.0  ...            0.0      0.0    1.0     8   \n",
      "24576             0.0  ...            0.0      1.0    0.0     8   \n",
      "5756              0.0  ...            0.0      1.0    0.0    41   \n",
      "23834             0.0  ...            0.0      0.0    1.0   121   \n",
      "\n",
      "             city_development_index  education_level  experience  \\\n",
      "enrollee_id                                                        \n",
      "8949                          0.920                2          21   \n",
      "29725                         0.776                2          15   \n",
      "11561                         0.624                2           5   \n",
      "666                           0.767                3          21   \n",
      "21651                         0.764                2          11   \n",
      "...                             ...              ...         ...   \n",
      "7386                          0.878                2          14   \n",
      "31398                         0.920                2          14   \n",
      "24576                         0.920                2          21   \n",
      "5756                          0.802                1           0   \n",
      "23834                         0.855                0           2   \n",
      "\n",
      "             company_size  last_new_job  training_hours  \n",
      "enrollee_id                                              \n",
      "8949                    0             1              36  \n",
      "29725                   3             5              47  \n",
      "11561                   0             0              83  \n",
      "666                     3             4               8  \n",
      "21651                   0             1              24  \n",
      "...                   ...           ...             ...  \n",
      "7386                    0             1              42  \n",
      "31398                   0             4              52  \n",
      "24576                   3             4              44  \n",
      "5756                    5             2              97  \n",
      "23834                   0             1             127  \n",
      "\n",
      "[18014 rows x 30 columns]\n"
     ]
    }
   ],
   "source": [
    "X_hr_encode = encode(X_hr_fill)\n",
    "print(X_hr_encode)"
   ]
  },
  {
   "cell_type": "markdown",
   "metadata": {},
   "source": [
    "Городов слишком много для OHE, поэтому label. В образовании есть ранжирование, поэтому label. Там где в основном числа (размер компании, опыт) тоже есть ранжирование, поэтому label. Остальное, где нет ранжирования и не очень много значений, OHE."
   ]
  },
  {
   "cell_type": "markdown",
   "metadata": {},
   "source": [
    "### Задание 6 (3.5 балла)\n",
    "\n",
    "Выполните задание для датасета _hr_.\n",
    "\n",
    "\n"
   ]
  },
  {
   "cell_type": "markdown",
   "metadata": {},
   "source": [
    "#### 1. (1 балл)\n",
    "Реализуйте функцию undersampling"
   ]
  },
  {
   "cell_type": "markdown",
   "metadata": {},
   "source": [
    "#### 2. (1 балл)\n",
    "Реализуйте функцию oversampling"
   ]
  },
  {
   "cell_type": "code",
   "execution_count": 17,
   "metadata": {},
   "outputs": [],
   "source": [
    "def undersampling(X, y):\n",
    "    # Возвращает данные, сбалансированные методом undersampling\n",
    "    zeros = len(y[y==0.])\n",
    "    ones = len(y[y==1.])\n",
    "    print(zeros, ones)\n",
    "    X_under = pd.DataFrame(columns = X.columns)\n",
    "    y_under = []\n",
    "    zeros = ones = min(zeros, ones)\n",
    "    for (ind, i), j in zip(X.iterrows(), y):\n",
    "        if j == 0 and zeros > 0:\n",
    "            X_under = X_under.append(i)\n",
    "            y_under.append(j)\n",
    "            zeros -= 1\n",
    "        if j == 1 and ones > 0:\n",
    "            X_under = X_under.append(i)\n",
    "            y_under.append(j)\n",
    "            ones -= 1\n",
    "    print(X_under.shape, len(y_under))\n",
    "    return X_under, y_under\n",
    "\n",
    "def oversampling(X, y):\n",
    "    # Возвращает данные, сбалансированные методом oversampling\n",
    "    zeros = len(y[y==0.])\n",
    "    ones = len(y[y==1.])\n",
    "    print(zeros, ones)\n",
    "    X_over = pd.DataFrame(columns = X.columns)\n",
    "    y_over = []\n",
    "    zeros = ones = max(zeros, ones)\n",
    "    while (zeros > 0 or ones > 0):\n",
    "        for (ind, i), j in zip(X.iterrows(), y):\n",
    "            if j == 0 and zeros > 0:\n",
    "                X_over = X_over.append(i)\n",
    "                y_over.append(j)\n",
    "                zeros -= 1\n",
    "            if j == 1 and ones > 0:\n",
    "                X_over = X_over.append(i)\n",
    "                y_over.append(j)\n",
    "                ones -= 1\n",
    "    print(X_over.shape, len(y_over))\n",
    "    \n",
    "    return X_over, y_over"
   ]
  },
  {
   "cell_type": "code",
   "execution_count": 18,
   "metadata": {},
   "outputs": [
    {
     "name": "stdout",
     "output_type": "stream",
     "text": [
      "13593 4421\n",
      "(8842, 30) 8842\n",
      "13593 4421\n",
      "(27186, 30) 27186\n"
     ]
    }
   ],
   "source": [
    "X_hr_under, y_hr_under = undersampling(X_hr_encode, y_hr_fill)\n",
    "\n",
    "X_hr_over, y_hr_over = oversampling(X_hr_encode, y_hr_fill)"
   ]
  },
  {
   "cell_type": "markdown",
   "metadata": {},
   "source": [
    "#### 3. (1 балл)\n",
    "Используйте _SMOTE_ для балансировки датасета."
   ]
  },
  {
   "cell_type": "markdown",
   "metadata": {},
   "source": [
    "Помимо методов _undersampling_ и _oversampling_ существует подход, генерирующий элементы класса-меньшинства, похожие на уже присутствующие в выборке данных. Такой метод называется _Synthetic Minority Oversampling Technique_ (SMOTE). \n",
    "\n",
    "Метод _SMOTE_ , реализованный в библиотеке `imblearn`, генерирует синтетические примеры при помощи __k-nearest neighbor__ алгоритма (подробнее об этом алгоритме будет рассказано на лекции)."
   ]
  },
  {
   "cell_type": "code",
   "execution_count": 19,
   "metadata": {},
   "outputs": [],
   "source": [
    "#!pip install -U imbalanced-learn"
   ]
  },
  {
   "cell_type": "code",
   "execution_count": 20,
   "metadata": {},
   "outputs": [],
   "source": [
    "from imblearn.over_sampling import SMOTE\n",
    "\n",
    "smote = SMOTE(random_state=239)# YOUR_CODE\n",
    "X_hr_SMOTE, y_hr_SMOTE = smote.fit_resample(X_hr_encode.values, y_hr_fill.values)# YOUR_CODE"
   ]
  },
  {
   "cell_type": "markdown",
   "metadata": {},
   "source": [
    "#### 4. (0.5 балла)\n",
    "Как изменились распределения признаков при различных тактиках балансирования датасета?"
   ]
  },
  {
   "cell_type": "code",
   "execution_count": 23,
   "metadata": {
    "scrolled": false
   },
   "outputs": [
    {
     "name": "stdout",
     "output_type": "stream",
     "text": [
      "13593 4421\n",
      "(8842, 12) 8842\n"
     ]
    },
    {
     "data": {
      "image/png": "[encoded data removed]",
      "text/plain": [
       "<Figure size 432x288 with 1 Axes>"
      ]
     },
     "metadata": {
      "needs_background": "light"
     },
     "output_type": "display_data"
    },
    {
     "data": {
      "image/png": "[encoded data removed]",
      "text/plain": [
       "<Figure size 432x288 with 1 Axes>"
      ]
     },
     "metadata": {
      "needs_background": "light"
     },
     "output_type": "display_data"
    },
    {
     "name": "stdout",
     "output_type": "stream",
     "text": [
      "gender {'Male': 6148, 'empty': 1993, 'Female': 604, 'Other': 97}\n",
      "relevent_experience {'Has relevent experience': 6128, 'No relevent experience': 2714}\n",
      "enrolled_university {'no_enrollment': 6201, 'Full time course': 2081, 'Part time course': 560}\n",
      "education_level {'Graduate': 5716, 'Masters': 1950, 'High School': 883, 'Phd': 173, 'Primary School': 120}\n",
      "major_discipline {'STEM': 6955, 'empty': 1013, 'Arts': 125, 'Humanities': 305, 'Business Degree': 158, 'No Major': 103, 'Other': 183}\n",
      "experience {'>20': 1333, '15': 299, '5': 705, '11': 327, '13': 164, '7': 531, '17': 132, '2': 571, '16': 202, '1': 286, '4': 704, '10': 430, '<1': 287, '14': 257, '18': 113, '19': 123, '12': 215, '6': 589, '9': 465, '3': 688, '8': 348, '20': 73}\n",
      "company_size {'empty': 3211, '50-99': 1310, '<10': 537, '10000+': 884, '5000-9999': 240, '1000-4999': 574, '10/49': 654, '100-500': 1055, '500-999': 377}\n",
      "company_type {'empty': 3243, 'Pvt Ltd': 4214, 'Funded Startup': 426, 'Early Stage Startup': 254, 'Other': 53, 'Public Sector': 421, 'NGO': 231}\n",
      "last_new_job {'1': 3918, '>4': 1396, 'never': 1199, '4': 477, '3': 471, '2': 1381}\n",
      "13593 4421\n",
      "(27186, 12) 27186\n"
     ]
    },
    {
     "data": {
      "image/png": "[encoded data removed]",
      "text/plain": [
       "<Figure size 432x288 with 1 Axes>"
      ]
     },
     "metadata": {
      "needs_background": "light"
     },
     "output_type": "display_data"
    },
    {
     "data": {
      "image/png": "[encoded data removed]",
      "text/plain": [
       "<Figure size 432x288 with 1 Axes>"
      ]
     },
     "metadata": {
      "needs_background": "light"
     },
     "output_type": "display_data"
    },
    {
     "name": "stdout",
     "output_type": "stream",
     "text": [
      "gender {'Male': 18798, 'empty': 6263, 'Female': 1860, 'Other': 265}\n",
      "relevent_experience {'Has relevent experience': 18949, 'No relevent experience': 8237}\n",
      "enrolled_university {'no_enrollment': 19170, 'Full time course': 6286, 'Part time course': 1730}\n",
      "education_level {'Graduate': 17567, 'Masters': 6055, 'High School': 2678, 'Phd': 515, 'Primary School': 371}\n",
      "major_discipline {'STEM': 21452, 'empty': 3088, 'Arts': 354, 'Humanities': 929, 'Business Degree': 492, 'No Major': 318, 'Other': 553}\n",
      "experience {'>20': 4192, '15': 896, '5': 2141, '11': 954, '13': 539, '7': 1586, '17': 446, '2': 1692, '16': 619, '1': 881, '4': 2176, '10': 1359, '<1': 876, '14': 780, '18': 355, '19': 395, '12': 648, '6': 1820, '9': 1347, '3': 2119, '8': 1154, '20': 211}\n",
      "company_size {'empty': 9891, '50-99': 4022, '<10': 1662, '10000+': 2722, '5000-9999': 743, '1000-4999': 1666, '10/49': 2040, '100-500': 3294, '500-999': 1146}\n",
      "company_type {'empty': 9992, 'Pvt Ltd': 12940, 'Funded Startup': 1265, 'Early Stage Startup': 816, 'Other': 168, 'Public Sector': 1320, 'NGO': 685}\n",
      "last_new_job {'1': 12015, '>4': 4415, 'never': 3599, '4': 1462, '3': 1452, '2': 4243}\n"
     ]
    },
    {
     "data": {
      "text/plain": [
       "<Figure size 432x288 with 0 Axes>"
      ]
     },
     "metadata": {},
     "output_type": "display_data"
    }
   ],
   "source": [
    "# YOUR CODE\n",
    "#print(X_hr_SMOTE)\n",
    "X_hr_under, y_hr_under = undersampling(X_hr_fill, y_hr_fill)\n",
    "get_distr(X_hr_under)\n",
    "\n",
    "X_hr_over, y_hr_over = oversampling(X_hr_fill, y_hr_fill)\n",
    "get_distr(X_hr_over)"
   ]
  },
  {
   "cell_type": "markdown",
   "metadata": {},
   "source": [
    "При использовании undersampling относительное распределение признаков сохранилось, но при этом датасет уменьшился в два раза.\n",
    "При использовании oversampig заметны изменения в относительном распределении признаков в категориях."
   ]
  }
 ],
 "metadata": {
  "kernelspec": {
   "display_name": "Python 3",
   "language": "python",
   "name": "python3"
  },
  "language_info": {
   "codemirror_mode": {
    "name": "ipython",
    "version": 3
   },
   "file_extension": ".py",
   "mimetype": "text/x-python",
   "name": "python",
   "nbconvert_exporter": "python",
   "pygments_lexer": "ipython3",
   "version": "3.8.5"
  }
 },
 "nbformat": 4,
 "nbformat_minor": 4
}
