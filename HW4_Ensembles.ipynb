{
 "cells": [
  {
   "cell_type": "markdown",
   "metadata": {
    "id": "9MDZdOS9DL73"
   },
   "source": [
    "# Случайные леса\n",
    "__Суммарное количество баллов: 10__\n",
    "\n",
    "В этом задании вам предстоит реализовать ансамбль деревьев решений, известный как случайный лес, применить его к публичным данным и сравнить его эффективность с ансамблями из самых популярных библиотек."
   ]
  },
  {
   "cell_type": "code",
   "execution_count": 1,
   "metadata": {
    "id": "5JOw4feQDL75"
   },
   "outputs": [],
   "source": [
    "from sklearn.model_selection import train_test_split\n",
    "import numpy as np\n",
    "import pandas as pd\n",
    "import random\n",
    "import matplotlib.pyplot as plt\n",
    "import matplotlib\n",
    "import copy\n",
    "from collections import deque, Counter\n",
    "\n",
    "from sklearn.metrics import roc_auc_score\n",
    "from sklearn.metrics import roc_curve, accuracy_score"
   ]
  },
  {
   "cell_type": "markdown",
   "metadata": {
    "id": "X4am65lhDL75"
   },
   "source": [
    "### Задание 1 (3 балла)\n",
    "Реализуем сам Random Forest. Идея очень простая: строим `n` деревьев, а затем берем модальное предсказание. Используйте реализацию дерева из HW3.\n",
    "\n",
    "#### Параметры конструктора\n",
    "`n_estimators` - количество используемых для предсказания деревьев.\n",
    "\n",
    "Остальное - параметры деревьев.\n",
    "\n",
    "#### Методы\n",
    "`fit(X, y)` - строит `n_estimators` деревьев по выборке `X`.\n",
    "\n",
    "`predict(X)` - для каждого элемента выборки `X` возвращает самый частый класс, который предсказывают для него деревья."
   ]
  },
  {
   "cell_type": "code",
   "execution_count": 2,
   "metadata": {
    "id": "Hw97B0NsDL76"
   },
   "outputs": [],
   "source": [
    "def gini(x):\n",
    "    c = Counter(x)\n",
    "    #print(c)\n",
    "    total = len(x)\n",
    "    ans = 0\n",
    "    for v in c.values():\n",
    "        ans += 1.*v/total*(1-1.*v/total)\n",
    "    return ans\n",
    "    \n",
    "def entropy(x):\n",
    "    c = Counter(x)\n",
    "    #print(c)\n",
    "    total = len(x)\n",
    "    ans = 0\n",
    "    for v in c.values():\n",
    "        ans -= 1.*v/total*(math.log2(1.*v/total))\n",
    "    return ans\n",
    "\n",
    "def gain(left_y, right_y, criterion):\n",
    "    joined = np.concatenate((left_y, right_y))\n",
    "    return (len(joined) * criterion(joined) - len(left_y) * criterion(left_y) - len(right_y) * criterion(right_y))*1./len(joined)\n",
    "\n",
    "\n",
    "class DecisionTreeNode:\n",
    "    def __init__(self, depth):\n",
    "        self.split_dim = None\n",
    "        self.split_value = None\n",
    "        self.left = None\n",
    "        self.right = None\n",
    "        self.depth = depth\n",
    "        \n",
    "        self.leaf = False\n",
    "        self.elems = None\n",
    "        self.y = None\n",
    "        \n",
    "\n",
    "\n",
    "def get_class(x):\n",
    "    p = Counter(x)\n",
    "    return max(p.keys(), key=lambda k: p[k])\n",
    "\n",
    "def get_probs(x):\n",
    "    p = Counter(x)\n",
    "    return {k : v*1./sum(p.values()) for k,v in p.items()}\n",
    "\n",
    "class DecisionTreeClassifier:\n",
    "    def __init__(self, criterion=\"gini\", max_depth=None, min_samples_leaf=1):\n",
    "        self.root = None\n",
    "        self.criterion = criterion\n",
    "        self.max_depth = max_depth\n",
    "        self.min_samples_leaf = min_samples_leaf\n",
    "    \n",
    "    def fit(self, X, y):\n",
    "        root = DecisionTreeNode(0)\n",
    "        self.root = root\n",
    "        elems = range(len(y))\n",
    "        q = deque()\n",
    "        q.append((root, elems))\n",
    "        while (q):\n",
    "            node, elems = q.popleft()\n",
    "            if node.depth == self.max_depth:\n",
    "                node.leaf = True\n",
    "                node.elems = y[elems]\n",
    "                node.y = get_class(y[elems])\n",
    "                continue\n",
    "            \n",
    "            # iterate over features\n",
    "            cur_split_dim = -1\n",
    "            cur_split_value = -1\n",
    "            cur_gain = 0\n",
    "            cur_left = []\n",
    "            cur_right = []\n",
    "            for i in range(X.shape[1]):\n",
    "                vals = X[:, i]\n",
    "                minn = min(vals)\n",
    "                maxx = max(vals)\n",
    "                for b in np.random.uniform(minn, maxx, 20):\n",
    "                    elem_left = []\n",
    "                    elem_right = []\n",
    "                    for e in elems:\n",
    "                        if X[e, i] < b:\n",
    "                            elem_left.append(e)\n",
    "                        else:\n",
    "                            elem_right.append(e)\n",
    "                    #print(y)\n",
    "                    #print(elem_left)\n",
    "                    tmp_gain = gain(y[elem_left], y[elem_right], gini if self.criterion=='gini' else entropy)\n",
    "                    if tmp_gain > cur_gain:\n",
    "                        cur_gain = tmp_gain\n",
    "                        cur_split_dim = i\n",
    "                        cur_split_value = b\n",
    "                        cur_left = elem_left.copy()\n",
    "                        cur_right = elem_right.copy()\n",
    "                        \n",
    "            if len(cur_left) < self.min_samples_leaf or len(cur_right) < self.min_samples_leaf: #cur_gain < 0.01 or \n",
    "                node.leaf = True\n",
    "                node.elems = y[elems]\n",
    "                node.y = get_class(y[elems])\n",
    "            else:\n",
    "                left_node = DecisionTreeNode(node.depth+1)\n",
    "                right_node = DecisionTreeNode(node.depth+1)\n",
    "                q.append((left_node, cur_left))\n",
    "                q.append((right_node, cur_right))\n",
    "                node.split_dim = cur_split_dim\n",
    "                node.split_value = cur_split_value\n",
    "                node.left = left_node\n",
    "                node.right = right_node\n",
    "        \n",
    "                \n",
    "    def predict_proba(self, X):\n",
    "        ans = []\n",
    "        for i in range(X.shape[0]):\n",
    "            node = self.root\n",
    "            while not node.leaf:\n",
    "                if X[i, node.split_dim] < node.split_value:\n",
    "                    node = node.left\n",
    "                else:\n",
    "                    node = node.right\n",
    "            ans.append(get_probs(node.elems))\n",
    "        return ans\n",
    "    \n",
    "    def predict(self, X):\n",
    "        proba = self.predict_proba(X)\n",
    "        return [max(p.keys(), key=lambda k: p[k]) for p in proba]"
   ]
  },
  {
   "cell_type": "code",
   "execution_count": 3,
   "metadata": {
    "id": "qKrTGZdSDL76"
   },
   "outputs": [],
   "source": [
    "class RandomForestClassifier:\n",
    "    def __init__(self, criterion=\"gini\", max_depth=None, min_samples_leaf=1, max_features=\"auto\", n_estimators=10):\n",
    "        self.criterion = criterion\n",
    "        self.max_depth = max_depth\n",
    "        self.min_samples_leaf = min_samples_leaf\n",
    "        self.max_features = max_features\n",
    "        self.n_estimators = n_estimators\n",
    "\n",
    "    \n",
    "    def fit(self, X, y):\n",
    "        self.estimators = [DecisionTreeClassifier(criterion=self.criterion, max_depth=self.max_depth, min_samples_leaf=self.min_samples_leaf) for _ in range(self.n_estimators)]\n",
    "        for e in self.estimators:\n",
    "            e.fit(X, y)\n",
    "        #print(self.estimators)\n",
    "    \n",
    "    def predict(self, X):\n",
    "        preds = np.array([e.predict(X) for e in self.estimators]).T\n",
    "        ans = []\n",
    "        for i in range(X.shape[0]):\n",
    "            c = Counter(preds[i])\n",
    "            ans.append(max(c.keys(), key=(lambda k: c[k])))\n",
    "        #print(ans)\n",
    "        return ans\n",
    "    \n",
    "    def predict_proba(self, X):\n",
    "        preds = np.array([e.predict(X) for e in self.estimators]).T\n",
    "        ans = []\n",
    "        for i in range(X.shape[0]):\n",
    "            c = Counter(preds[i])\n",
    "            ans.append(c[1]*1./self.n_estimators)\n",
    "        #print(ans)\n",
    "        return ans"
   ]
  },
  {
   "cell_type": "markdown",
   "metadata": {
    "id": "7pG-ICxNDL77"
   },
   "source": [
    "### Задание 3 (2 балла)\n",
    "Оптимизируйте по `AUC` на кроссвалидации (размер валидационной выборки - 20%) параметры своей реализации `Random Forest`: \n",
    "\n",
    "максимальную глубину деревьев из [2, 3, 5, 7, 10], количество деревьев из [5, 10, 20, 30, 50, 100]. \n",
    "\n",
    "Постройте `ROC` кривую (и выведите `AUC` и `accuracy`) для лучшего варианта.\n",
    "\n",
    "Подсказка: можно построить сразу 100 деревьев глубины 10, а потом убирать деревья и\n",
    "глубину."
   ]
  },
  {
   "cell_type": "code",
   "execution_count": 4,
   "metadata": {
    "id": "nCjCoyPcDL77"
   },
   "outputs": [],
   "source": [
    "CANCER_DATA_PATH = \"cancer.csv\"\n",
    "SPAM_DATA_PATH = \"spam.csv\"\n",
    "def read_cancer_dataset(path_to_csv):\n",
    "    # Возвращает пару из X и y. X - массив векторов. y - соответствующие векторам метки\n",
    "    df = pd.read_csv(path_to_csv, header=0)\n",
    "    y = [1 if i == 'M' else 0 for i in df[\"label\"]]\n",
    "    return df.drop(\"label\", axis=1).to_numpy(), np.array(y)\n",
    "\n",
    "def read_spam_dataset(path_to_csv):\n",
    "    # Возвращает пару из X и y. X - массив векторов. y - соответствующие векторам метки\n",
    "    df = pd.read_csv(path_to_csv, header=0)\n",
    "    y = df[\"label\"]\n",
    "    return df.drop(\"label\", axis=1).to_numpy(), np.array(y.values)\n",
    "\n",
    "X_cancer, y_cancer = read_cancer_dataset(CANCER_DATA_PATH)\n",
    "X_spam, y_spam = read_spam_dataset(SPAM_DATA_PATH)\n",
    "\n",
    "X_train, X_test, y_train, y_test = train_test_split(X_cancer, y_cancer, train_size = 0.8)\n",
    "#print(X_test)"
   ]
  },
  {
   "cell_type": "code",
   "execution_count": 27,
   "metadata": {
    "colab": {
     "base_uri": "https://localhost:8080/"
    },
    "id": "aZkrqAvFDL77",
    "outputId": "d9d994b4-60c9-403b-d7a6-cc14987be432"
   },
   "outputs": [
    {
     "name": "stdout",
     "output_type": "stream",
     "text": [
      "2 5 0.9593521752937441\n",
      "2 10 0.9663385201651318\n",
      "2 20 0.9849158463004128\n",
      "2 30 0.9842807240393776\n",
      "2 50 0.9874563353445538\n",
      "2 100 0.9853921879961893\n",
      "3 5 0.9585582724674501\n",
      "3 10 0.9695141314703081\n",
      "3 20 0.9896792632581772\n",
      "3 30 0.987297554779295\n",
      "3 50 0.9871387742140363\n",
      "3 100 0.9909495077802477\n",
      "5 5 0.9876151159098127\n",
      "5 10 0.9941251190854239\n",
      "5 20 0.9899968243886949\n",
      "5 30 0.9907907272149888\n",
      "5 50 0.9896792632581772\n",
      "5 100 0.992378532867577\n",
      "7 5 0.9817402349952364\n",
      "7 10 0.9920609717370594\n",
      "7 20 0.9893617021276595\n",
      "7 30 0.9912670689107654\n",
      "7 50 0.9892029215624009\n",
      "7 100 0.9915846300412829\n",
      "10 5 0.968720228644014\n",
      "10 10 0.9871387742140362\n",
      "10 20 0.9884090187361068\n",
      "10 30 0.9858685296919658\n",
      "10 50 0.9925373134328358\n",
      "10 100 0.9907907272149888\n",
      "AUC=0.9941251190854239; max_depth=5, n_estimators=10\n"
     ]
    }
   ],
   "source": [
    "# YOUR_CODE\n",
    "depth = -1\n",
    "count = -1\n",
    "AUC = -1\n",
    "for d in [2, 3, 5, 7, 10]:\n",
    "    for n in [5, 10, 20, 30, 50, 100]:\n",
    "        RF = RandomForestClassifier(max_depth=d, n_estimators=n)\n",
    "        RF.fit(X_train, y_train)\n",
    "        y_prob = RF.predict_proba(X_test)\n",
    "        tmp = roc_auc_score(y_test, y_prob)\n",
    "        print(d, n, tmp)\n",
    "        if tmp > AUC:\n",
    "            AUC = tmp\n",
    "            depth = d\n",
    "            count = n\n",
    "            \n",
    "print(f'AUC={AUC}; max_depth={depth}, n_estimators={count}')"
   ]
  },
  {
   "cell_type": "markdown",
   "metadata": {
    "id": "Hla8yKNcDL78"
   },
   "source": [
    "2 5 0.9593521752937441\n",
    "2 10 0.9663385201651318\n",
    "2 20 0.9849158463004128\n",
    "2 30 0.9842807240393776\n",
    "2 50 0.9874563353445538\n",
    "2 100 0.9853921879961893\n",
    "3 5 0.9585582724674501\n",
    "3 10 0.9695141314703081\n",
    "3 20 0.9896792632581772\n",
    "3 30 0.987297554779295\n",
    "3 50 0.9871387742140363\n",
    "3 100 0.9909495077802477\n",
    "5 5 0.9876151159098127\n",
    "5 10 0.9941251190854239\n",
    "5 20 0.9899968243886949\n",
    "5 30 0.9907907272149888\n",
    "5 50 0.9896792632581772\n",
    "5 100 0.992378532867577\n",
    "7 5 0.9817402349952364\n",
    "7 10 0.9920609717370594\n",
    "7 20 0.9893617021276595\n",
    "7 30 0.9912670689107654\n",
    "7 50 0.9892029215624009\n",
    "7 100 0.9915846300412829\n",
    "10 5 0.968720228644014\n",
    "10 10 0.9871387742140362\n",
    "10 20 0.9884090187361068\n",
    "10 30 0.9858685296919658\n",
    "10 50 0.9925373134328358\n",
    "10 100 0.9907907272149888\n",
    "AUC=0.9941251190854239; max_depth=5, n_estimators=10"
   ]
  },
  {
   "cell_type": "code",
   "execution_count": 28,
   "metadata": {
    "id": "hzl2MzjGDL78"
   },
   "outputs": [],
   "source": [
    "def plot_roc_curve(y_test, y_prob):\n",
    "    fpr, tpr, _ = roc_curve(y_test, y_prob)\n",
    "\n",
    "    plt.figure()\n",
    "    lw = 2\n",
    "    plt.plot(fpr, tpr, color='darkorange', lw=lw)\n",
    "    plt.plot([0, 1], [0, 1], color='navy', lw=lw, linestyle='--')\n",
    "    plt.xlim([-0.01, 1.0])\n",
    "    plt.ylim([-0.01, 1.05])\n",
    "    plt.xlabel('False Positive Rate')\n",
    "    plt.ylabel('True Positive Rate')\n",
    "    plt.title('Receiver operating characteristic example')\n",
    "    plt.show()"
   ]
  },
  {
   "cell_type": "code",
   "execution_count": 47,
   "metadata": {
    "colab": {
     "base_uri": "https://localhost:8080/",
     "height": 329
    },
    "id": "0BC4d4nDDL79",
    "outputId": "d626ff39-cc8d-47ad-a14b-62fbde158441"
   },
   "outputs": [
    {
     "name": "stdout",
     "output_type": "stream",
     "text": [
      "===== RF =====\n",
      "AUC=0.9923785328675769; accuracy=0.9473684210526315\n"
     ]
    },
    {
     "data": {
      "image/png": "[encoded data removed]",
      "text/plain": [
       "<Figure size 432x288 with 1 Axes>"
      ]
     },
     "metadata": {
      "needs_background": "light",
      "tags": []
     },
     "output_type": "display_data"
    }
   ],
   "source": [
    "depth = 5\n",
    "n_est = 10\n",
    "RF = RandomForestClassifier(max_depth=depth, n_estimators=n_est)\n",
    "RF.fit(X_train, y_train)\n",
    "y_pred = RF.predict(X_test)\n",
    "y_prob = RF.predict_proba(X_test)\n",
    "\n",
    "print(\"===== RF =====\")\n",
    "print(f'AUC={roc_auc_score(y_test, y_prob)}; accuracy={accuracy_score(y_test, y_pred)}')\n",
    "\n",
    "plot_roc_curve(y_test, y_prob)"
   ]
  },
  {
   "cell_type": "markdown",
   "metadata": {
    "id": "jUuGf-WYDL79"
   },
   "source": [
    "### Задание 4 (3 балла)\n",
    "Часто хочется понимать, насколько большую роль играет тот или иной признак для предсказания класса объекта. Есть различные способы посчитать его важность. Один из простых способов сделать это для Random Forest выглядит так:\n",
    "1. Посчитать out-of-bag ошибку предсказания `err_oob` (https://en.wikipedia.org/wiki/Out-of-bag_error)\n",
    "2. Перемешать значения признака `j` у объектов выборки (у каждого из объектов изменится значение признака `j` на какой-то другой)\n",
    "3. Посчитать out-of-bag ошибку (`err_oob_j`) еще раз.\n",
    "4. Оценкой важности признака `j` для одного дерева будет разность `err_oob_j - err_oob`, важность для всего леса считается как среднее значение важности по деревьям.\n",
    "\n",
    "Реализуйте функцию `feature_importance`, которая принимает на вход Random Forest и возвращает массив, в котором содержится важность для каждого признака."
   ]
  },
  {
   "cell_type": "code",
   "execution_count": 44,
   "metadata": {
    "id": "VTrJPTZ3DL79"
   },
   "outputs": [],
   "source": [
    "def feature_importance(rfc, test):\n",
    "    X, y = test\n",
    "    err_oob = accuracy_score(y, rfc.predict(X))\n",
    "    ans = []\n",
    "    for i in range(X.shape[1]):\n",
    "        shuf = list(range(X.shape[0]))\n",
    "        random.shuffle(shuf)\n",
    "        tmp = X.copy()\n",
    "        tmp[:, i] = X[shuf, i]\n",
    "        err_oob_i = accuracy_score(y, rfc.predict(tmp))\n",
    "        ans.append(err_oob - err_oob_i)\n",
    "    return ans\n",
    "\n",
    "def most_important_features(importance, names, k=20):\n",
    "    # Выводит названия k самых важных признаков\n",
    "    idicies = np.argsort(importance)[::-1][:k]\n",
    "    return np.array(names)[idicies]"
   ]
  },
  {
   "cell_type": "markdown",
   "metadata": {
    "id": "xUH20YaGDL7-"
   },
   "source": [
    "Протестируйте решение на простом синтетическом наборе данных. В результате должна получиться точность `1.0`, наибольшее значение важности должно быть у признака с индексом `4`, признаки с индексами `2` и `3`  должны быть одинаково важны, а остальные признаки - не важны совсем."
   ]
  },
  {
   "cell_type": "code",
   "execution_count": 45,
   "metadata": {
    "colab": {
     "base_uri": "https://localhost:8080/"
    },
    "id": "HtKGqEYiDL7-",
    "outputId": "e19d8b3e-2572-47f6-b4b9-903be3c73a4b"
   },
   "outputs": [
    {
     "name": "stdout",
     "output_type": "stream",
     "text": [
      "Accuracy: 1.0\n",
      "Importance: [0.0, 0.0, 0.18000000000000005, 0.19999999999999996, 0.42000000000000004, 0.0]\n"
     ]
    }
   ],
   "source": [
    "def synthetic_dataset(size):\n",
    "    X = [(np.random.randint(0, 2), np.random.randint(0, 2), i % 6 == 3, \n",
    "          i % 6 == 0, i % 3 == 2, np.random.randint(0, 2)) for i in range(size)]\n",
    "    y = [i % 3 for i in range(size)]\n",
    "    return np.array(X), np.array(y)\n",
    "\n",
    "X, y = synthetic_dataset(1000)\n",
    "rfc = RandomForestClassifier(n_estimators=100)\n",
    "rfc.fit(X, y)\n",
    "print(\"Accuracy:\", np.mean(rfc.predict(X) == y))\n",
    "print(\"Importance:\", feature_importance(rfc, synthetic_dataset(100)))"
   ]
  },
  {
   "cell_type": "markdown",
   "metadata": {
    "id": "PxiOXx0RDL7-"
   },
   "source": [
    "Проверьте, какие признаки важны для датасетов cancer и spam?"
   ]
  },
  {
   "cell_type": "code",
   "execution_count": 51,
   "metadata": {
    "colab": {
     "base_uri": "https://localhost:8080/"
    },
    "id": "VVkgN2kofjEe",
    "outputId": "ba225f5b-492e-4c80-9762-f5836029fdd5"
   },
   "outputs": [
    {
     "name": "stdout",
     "output_type": "stream",
     "text": [
      "Accuracy: 0.9736842105263158\n",
      "Importance: [0.0, 0.00877192982456143, 0.0, 0.0, 0.0, 0.0, 0.0, 0.00877192982456143, 0.0, 0.0, 0.0, 0.00877192982456143, 0.0, 0.0, 0.0, 0.0, 0.0, 0.0, 0.0, 0.0, 0.0, 0.026315789473684292, 0.07894736842105265, 0.01754385964912286, 0.00877192982456143, 0.0, 0.0, 0.03508771929824561, 0.0, 0.0]\n",
      "Most important features: [23 28 22 24  2]\n"
     ]
    }
   ],
   "source": [
    "X_train, X_test, y_train, y_test = train_test_split(X_cancer, y_cancer, train_size = 0.8)\n",
    "depth = 5\n",
    "n_est = 10\n",
    "RF = RandomForestClassifier(max_depth=depth, n_estimators=n_est)\n",
    "RF.fit(X_train, y_train)\n",
    "print(\"Accuracy:\", np.mean(RF.predict(X_test) == y_test))\n",
    "imp = feature_importance(RF, (X_test, y_test))\n",
    "print(\"Importance:\", imp)\n",
    "print(\"Most important features:\", most_important_features(imp, [1,2,3,4,5,6,7,8,9,10,11,12,13,14,15,16,17,18,19,20,21,22,23,24,25,26,27,28,29,30], 5))"
   ]
  },
  {
   "cell_type": "code",
   "execution_count": 52,
   "metadata": {
    "colab": {
     "base_uri": "https://localhost:8080/"
    },
    "id": "2A02RBPgg9SW",
    "outputId": "345f54e3-4aeb-4685-8728-b507ba57fb97"
   },
   "outputs": [
    {
     "name": "stdout",
     "output_type": "stream",
     "text": [
      "Accuracy: 0.9022801302931596\n",
      "Importance: [0.0, 0.0, 0.0, 0.0, 0.004343105320304019, 0.0, 0.057546145494028145, 0.0, 0.0, 0.0, 0.0, 0.0, 0.0, 0.0, 0.0, 0.013029315960912058, -0.0010857763300760048, 0.0010857763300760048, 0.0010857763300760048, 0.0, 0.0, 0.0, 0.011943539630836053, 0.0, 0.04017372421281207, 0.0010857763300760048, 0.004343105320304019, 0.0, 0.0, 0.0, 0.0, 0.0, 0.0, 0.0, 0.0, 0.0, 0.0032573289902280145, 0.0, 0.0, 0.0, 0.0, 0.0032573289902280145, 0.0, 0.0, 0.0, 0.008686210640608039, 0.0, 0.0, 0.0, 0.0, 0.0, 0.03583061889250805, 0.055374592833876135, 0.0, 0.0010857763300760048, 0.0021715526601520097, 0.0]\n",
      "Most important features: ['word_freq_remove' 'char_freq_$' 'word_freq_hp' 'char_freq_!'\n",
      " 'word_freq_free']\n"
     ]
    }
   ],
   "source": [
    "X_train, X_test, y_train, y_test = train_test_split(X_spam, y_spam, train_size = 0.8)\n",
    "depth = 5\n",
    "n_est = 10\n",
    "RF = RandomForestClassifier(max_depth=depth, n_estimators=n_est)\n",
    "RF.fit(X_train, y_train)\n",
    "print(\"Accuracy:\", np.mean(RF.predict(X_test) == y_test))\n",
    "imp = feature_importance(RF, (X_test, y_test))\n",
    "print(\"Importance:\", imp)\n",
    "print(\"Most important features:\", most_important_features(imp, ['word_freq_make','word_freq_address','word_freq_all','word_freq_3d','word_freq_our','word_freq_over','word_freq_remove','word_freq_internet','word_freq_order','word_freq_mail','word_freq_receive','word_freq_will','word_freq_people','word_freq_report','word_freq_addresses','word_freq_free','word_freq_business','word_freq_email','word_freq_you','word_freq_credit','word_freq_your','word_freq_font','word_freq_000','word_freq_money','word_freq_hp','word_freq_hpl','word_freq_george','word_freq_650','word_freq_lab','word_freq_labs','word_freq_telnet','word_freq_857','word_freq_data','word_freq_415','word_freq_85','word_freq_technology','word_freq_1999','word_freq_parts','word_freq_pm','word_freq_direct','word_freq_cs','word_freq_meeting','word_freq_original','word_freq_project','word_freq_re','word_freq_edu','word_freq_table','word_freq_conference','char_freq_:','char_freq_(','char_freq_[','char_freq_!','char_freq_$','char_freq_#','capital_run_length_average','capital_run_length_longest','capital_run_length_total'], 5))"
   ]
  },
  {
   "cell_type": "markdown",
   "metadata": {
    "id": "HLY371JbDL7-"
   },
   "source": [
    "_Ваш ответ_\n",
    "\n",
    "Для набора данных cancer наиболее важны признаки 23 28 22 24 2\n",
    "\n",
    "Для набора данных spam наиболее важны признаки 'word_freq_remove', 'char_freq_$', 'word_freq_hp', 'char_freq_!', 'word_freq_free'"
   ]
  },
  {
   "cell_type": "markdown",
   "metadata": {
    "id": "P1fpB3OcDL7-"
   },
   "source": [
    "### Задание 5 (2 балла)\n",
    "В качестве альтернативы попробуем библиотечные реализации ансамблей моделей. \n",
    "\n",
    "1. [CatBoost](https://catboost.ai/docs/)\n",
    "2. [XGBoost](https://xgboost.readthedocs.io/en/latest/)\n",
    "3. [LightGBM](https://lightgbm.readthedocs.io/en/latest/)\n"
   ]
  },
  {
   "cell_type": "markdown",
   "metadata": {
    "id": "DSMbcBlFDL7-"
   },
   "source": [
    "Установите необходимые библиотеки. \n",
    "Возможно, потребуется установка дополнительных пакетов"
   ]
  },
  {
   "cell_type": "code",
   "execution_count": 12,
   "metadata": {
    "colab": {
     "base_uri": "https://localhost:8080/"
    },
    "id": "79RUQBuRDL7-",
    "outputId": "208f94ed-8cc5-4c9c-f9b1-8295ad10de27",
    "scrolled": false
   },
   "outputs": [
    {
     "name": "stdout",
     "output_type": "stream",
     "text": [
      "Requirement already satisfied: lightgbm in /usr/local/lib/python3.7/dist-packages (2.2.3)\n",
      "Requirement already satisfied: numpy in /usr/local/lib/python3.7/dist-packages (from lightgbm) (1.19.5)\n",
      "Requirement already satisfied: scikit-learn in /usr/local/lib/python3.7/dist-packages (from lightgbm) (0.22.2.post1)\n",
      "Requirement already satisfied: scipy in /usr/local/lib/python3.7/dist-packages (from lightgbm) (1.4.1)\n",
      "Requirement already satisfied: joblib>=0.11 in /usr/local/lib/python3.7/dist-packages (from scikit-learn->lightgbm) (1.0.1)\n",
      "Collecting catboost\n",
      "\u001b[?25l  Downloading https://files.pythonhosted.org/packages/96/3b/bb419654adcf7efff42ed8a3f84e50c8f236424b7ed1cc8ccd290852e003/catboost-0.24.4-cp37-none-manylinux1_x86_64.whl (65.7MB)\n",
      "\u001b[K     |████████████████████████████████| 65.7MB 57kB/s \n",
      "\u001b[?25hRequirement already satisfied: graphviz in /usr/local/lib/python3.7/dist-packages (from catboost) (0.10.1)\n",
      "Requirement already satisfied: plotly in /usr/local/lib/python3.7/dist-packages (from catboost) (4.4.1)\n",
      "Requirement already satisfied: pandas>=0.24.0 in /usr/local/lib/python3.7/dist-packages (from catboost) (1.1.5)\n",
      "Requirement already satisfied: scipy in /usr/local/lib/python3.7/dist-packages (from catboost) (1.4.1)\n",
      "Requirement already satisfied: matplotlib in /usr/local/lib/python3.7/dist-packages (from catboost) (3.2.2)\n",
      "Requirement already satisfied: six in /usr/local/lib/python3.7/dist-packages (from catboost) (1.15.0)\n",
      "Requirement already satisfied: numpy>=1.16.0 in /usr/local/lib/python3.7/dist-packages (from catboost) (1.19.5)\n",
      "Requirement already satisfied: retrying>=1.3.3 in /usr/local/lib/python3.7/dist-packages (from plotly->catboost) (1.3.3)\n",
      "Requirement already satisfied: python-dateutil>=2.7.3 in /usr/local/lib/python3.7/dist-packages (from pandas>=0.24.0->catboost) (2.8.1)\n",
      "Requirement already satisfied: pytz>=2017.2 in /usr/local/lib/python3.7/dist-packages (from pandas>=0.24.0->catboost) (2018.9)\n",
      "Requirement already satisfied: cycler>=0.10 in /usr/local/lib/python3.7/dist-packages (from matplotlib->catboost) (0.10.0)\n",
      "Requirement already satisfied: pyparsing!=2.0.4,!=2.1.2,!=2.1.6,>=2.0.1 in /usr/local/lib/python3.7/dist-packages (from matplotlib->catboost) (2.4.7)\n",
      "Requirement already satisfied: kiwisolver>=1.0.1 in /usr/local/lib/python3.7/dist-packages (from matplotlib->catboost) (1.3.1)\n",
      "Installing collected packages: catboost\n",
      "Successfully installed catboost-0.24.4\n",
      "Requirement already satisfied: xgboost in /usr/local/lib/python3.7/dist-packages (0.90)\n",
      "Requirement already satisfied: numpy in /usr/local/lib/python3.7/dist-packages (from xgboost) (1.19.5)\n",
      "Requirement already satisfied: scipy in /usr/local/lib/python3.7/dist-packages (from xgboost) (1.4.1)\n"
     ]
    }
   ],
   "source": [
    "!pip install lightgbm\n",
    "!pip install catboost\n",
    "!pip install xgboost"
   ]
  },
  {
   "cell_type": "markdown",
   "metadata": {
    "id": "CzFRXwMMDL7_"
   },
   "source": [
    "Также, как и реализованный нами RandomForest, примените модели для наших датасетов.\n",
    "\n",
    "Для стандартного набора параметров у каждой модели нарисуйте `ROC` кривую и выведите `AUC` и `accuracy`.\n",
    "\n",
    "Посчитайте время обучения каждой модели (можно использовать [timeit magic](https://ipython.readthedocs.io/en/stable/interactive/magics.html#magic-timeit)). \n",
    "\n",
    "Сравните метрики качества и скорость обучения моделей. Какие выводы можно сделать?"
   ]
  },
  {
   "cell_type": "code",
   "execution_count": 13,
   "metadata": {
    "id": "TNCVCmJ_DL7_"
   },
   "outputs": [],
   "source": [
    "# YOUR_CODE\n",
    "X_cancer, y_cancer = read_cancer_dataset(CANCER_DATA_PATH)\n",
    "X_train, X_test, y_train, y_test = train_test_split(X_cancer, y_cancer, train_size = 0.8)"
   ]
  },
  {
   "cell_type": "code",
   "execution_count": 20,
   "metadata": {
    "colab": {
     "base_uri": "https://localhost:8080/",
     "height": 346
    },
    "id": "psCL-X0ZDL7_",
    "outputId": "24ee7ff9-cf62-48b6-91b4-103e51f16eeb"
   },
   "outputs": [
    {
     "name": "stdout",
     "output_type": "stream",
     "text": [
      "10 loops, best of 5: 118 ms per loop\n",
      "===== lightgbm =====\n",
      "AUC=0.9942838996506828; accuracy=0.956140350877193\n"
     ]
    },
    {
     "data": {
      "image/png": "[encoded data removed]",
      "text/plain": [
       "<Figure size 432x288 with 1 Axes>"
      ]
     },
     "metadata": {
      "needs_background": "light",
      "tags": []
     },
     "output_type": "display_data"
    }
   ],
   "source": [
    "from lightgbm import LGBMClassifier\n",
    "\n",
    "model = LGBMClassifier()\n",
    "%timeit model.fit(X_train, y_train)\n",
    "y_pred = model.predict(X_test)\n",
    "y_prob = model.predict_proba(X_test)\n",
    "\n",
    "print(\"===== lightgbm =====\")\n",
    "print(f'AUC={roc_auc_score(y_test, y_prob[:, 1])}; accuracy={accuracy_score(y_test, y_pred)}')\n",
    "plot_roc_curve(y_test, y_prob[:, 1])"
   ]
  },
  {
   "cell_type": "code",
   "execution_count": 23,
   "metadata": {
    "colab": {
     "base_uri": "https://localhost:8080/",
     "height": 346
    },
    "id": "lFGpsXlLDL7_",
    "outputId": "f6da5de7-9a27-4579-9a6d-7630d592b266"
   },
   "outputs": [
    {
     "name": "stdout",
     "output_type": "stream",
     "text": [
      "10 loops, best of 5: 89.2 ms per loop\n",
      "===== xgboost =====\n",
      "AUC=0.9930136551286122; accuracy=0.9473684210526315\n"
     ]
    },
    {
     "data": {
      "image/png": "[encoded data removed]",
      "text/plain": [
       "<Figure size 432x288 with 1 Axes>"
      ]
     },
     "metadata": {
      "needs_background": "light",
      "tags": []
     },
     "output_type": "display_data"
    }
   ],
   "source": [
    "from xgboost import XGBClassifier\n",
    "\n",
    "model = XGBClassifier()\n",
    "%timeit model.fit(X_train, y_train)\n",
    "y_pred = model.predict(X_test)\n",
    "y_prob = model.predict_proba(X_test)\n",
    "\n",
    "print(\"===== xgboost =====\")\n",
    "print(f'AUC={roc_auc_score(y_test, y_prob[:, 1])}; accuracy={accuracy_score(y_test, y_pred)}')\n",
    "plot_roc_curve(y_test, y_prob[:, 1])"
   ]
  },
  {
   "cell_type": "code",
   "execution_count": 26,
   "metadata": {
    "colab": {
     "base_uri": "https://localhost:8080/",
     "height": 346
    },
    "id": "rFC1YL6uDL7_",
    "outputId": "7d44ee9f-5c5a-44e8-f8ed-70f45252be17"
   },
   "outputs": [
    {
     "name": "stdout",
     "output_type": "stream",
     "text": [
      "1 loop, best of 5: 8.78 s per loop\n",
      "===== catboost =====\n",
      "AUC=0.9952365830422356; accuracy=0.9473684210526315\n"
     ]
    },
    {
     "data": {
      "image/png": "[encoded data removed]",
      "text/plain": [
       "<Figure size 432x288 with 1 Axes>"
      ]
     },
     "metadata": {
      "needs_background": "light",
      "tags": []
     },
     "output_type": "display_data"
    }
   ],
   "source": [
    "from catboost import CatBoostClassifier\n",
    "\n",
    "model = CatBoostClassifier(verbose=False)\n",
    "%timeit model.fit(X_train, y_train)\n",
    "y_pred = model.predict(X_test)\n",
    "y_prob = model.predict_proba(X_test)\n",
    "\n",
    "print(\"===== catboost =====\")\n",
    "print(f'AUC={roc_auc_score(y_test, y_prob[:, 1])}; accuracy={accuracy_score(y_test, y_pred)}')\n",
    "plot_roc_curve(y_test, y_prob[:, 1])"
   ]
  },
  {
   "cell_type": "markdown",
   "metadata": {
    "id": "HJmMKYW3DL7_"
   },
   "source": [
    "_Ваш ответ_\n",
    "\n",
    "Все модели показывают очень высокое качество классификации. CatBoost чуть лучше по качеству, но заметно проигрывает по скорости обучения. XGBoost самый быстрый. Все модели показывают качество очень близкое к RandomForest. Возможно это связано с тем, что датасет и задача не очень сложные и даже случайный лес хорошо ее решает."
   ]
  },
  {
   "cell_type": "code",
   "execution_count": null,
   "metadata": {
    "id": "sFktNInLbrg5"
   },
   "outputs": [],
   "source": []
  }
 ],
 "metadata": {
  "colab": {
   "name": "HW4_Ensembles.ipynb",
   "provenance": [],
   "toc_visible": true
  },
  "kernelspec": {
   "display_name": "Python 3",
   "language": "python",
   "name": "python3"
  },
  "language_info": {
   "codemirror_mode": {
    "name": "ipython",
    "version": 3
   },
   "file_extension": ".py",
   "mimetype": "text/x-python",
   "name": "python",
   "nbconvert_exporter": "python",
   "pygments_lexer": "ipython3",
   "version": "3.8.5"
  }
 },
 "nbformat": 4,
 "nbformat_minor": 1
}
