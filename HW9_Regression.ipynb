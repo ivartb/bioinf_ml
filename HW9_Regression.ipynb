{
 "cells": [
  {
   "cell_type": "markdown",
   "metadata": {},
   "source": [
    "# Линейная регрессия\n",
    "__Суммарное количество баллов: 10__\n"
   ]
  },
  {
   "cell_type": "code",
   "execution_count": 1,
   "metadata": {},
   "outputs": [],
   "source": [
    "from sklearn.datasets import make_blobs, make_moons\n",
    "from sklearn.model_selection import train_test_split\n",
    "import numpy as np\n",
    "import random\n",
    "import matplotlib.pyplot as plt\n",
    "import matplotlib\n",
    "import copy"
   ]
  },
  {
   "cell_type": "code",
   "execution_count": 2,
   "metadata": {},
   "outputs": [],
   "source": [
    "def read_data(path=\"./hw9_data/boston.csv\"):\n",
    "    dataframe = np.genfromtxt(path, delimiter=\",\", skip_header=15)\n",
    "    X = dataframe[:, :-1]\n",
    "    y = dataframe[:, -1]\n",
    "    return X, y"
   ]
  },
  {
   "cell_type": "code",
   "execution_count": 3,
   "metadata": {},
   "outputs": [],
   "source": [
    "def generate_synthetic(size, dim=6, noise=0.1):\n",
    "    X = np.random.randn(size, dim)\n",
    "    w = np.random.randn(dim + 1)\n",
    "    noise = noise * np.random.randn(size)\n",
    "    y = X.dot(w[1:]) + w[0] + noise\n",
    "    return X, y"
   ]
  },
  {
   "cell_type": "markdown",
   "metadata": {},
   "source": [
    "### Задание 1 (1 балл)\n",
    "Для начала нужно понять, какую метрику для ошибки будем использовать. В нашем случае нам подойдет стандартная метрика MSE. Ее и нужно реализовать."
   ]
  },
  {
   "cell_type": "code",
   "execution_count": 4,
   "metadata": {},
   "outputs": [],
   "source": [
    "def mse(y_true, y_predicted):\n",
    "    return np.mean((y_true - y_predicted)**2)"
   ]
  },
  {
   "cell_type": "markdown",
   "metadata": {},
   "source": [
    "### Задание 2 (3 балла)\n",
    "Теперь реализуем линейную регрессию при помощи явного решения задачи минимизации. \n",
    "\n",
    "#### Методы\n",
    "`fit(X, y)` - решает задачу минимизации $\\arg\\min_{w, b}\\sum ((w\\cdot x + b) - y)^2$. \n",
    "\n",
    "`predict(X)` - строит предсказание `y` для объектов из `X`."
   ]
  },
  {
   "cell_type": "code",
   "execution_count": 5,
   "metadata": {},
   "outputs": [],
   "source": [
    "from numpy.linalg import inv\n",
    "\n",
    "class NormalLR:\n",
    "    def __init__(self):\n",
    "        pass\n",
    "    \n",
    "    def fit(self, X, y):\n",
    "        xx = np.c_[np.full(X.shape[0], 1), X]\n",
    "        self.w = np.dot(np.dot(inv(np.dot(xx.T, xx)), xx.T), y)\n",
    "    \n",
    "    def predict(self, X):\n",
    "        xx = np.c_[np.full(X.shape[0], 1), X]\n",
    "        return np.dot(xx, self.w)"
   ]
  },
  {
   "cell_type": "code",
   "execution_count": 30,
   "metadata": {},
   "outputs": [
    {
     "name": "stdout",
     "output_type": "stream",
     "text": [
      "-3.719664196232485 4.444989248515545\n"
     ]
    }
   ],
   "source": [
    "X, y = generate_synthetic(1024)\n",
    "print(np.min(X), np.max(X))\n",
    "X_train, X_test, y_train, y_test = train_test_split(X, y, train_size=0.8)"
   ]
  },
  {
   "cell_type": "code",
   "execution_count": 9,
   "metadata": {},
   "outputs": [
    {
     "name": "stdout",
     "output_type": "stream",
     "text": [
      "0.009849022845383117\n"
     ]
    }
   ],
   "source": [
    "regr = NormalLR()\n",
    "regr.fit(X_train, y_train)\n",
    "print(mse(y_test, regr.predict(X_test)))"
   ]
  },
  {
   "cell_type": "markdown",
   "metadata": {},
   "source": [
    "### Задание 3 (2 балла)\n",
    "Теперь реализуем линейную регрессию с использованием градиентного спуска с larning rate `alpha` в течении `iterations` итераций.\n",
    "\n",
    "#### Методы\n",
    "`fit(X, y)` - приближает решение задачи минимизации $\\arg\\min_{w, b}\\sum ((w\\cdot x + b) - y)^2$ при помощи градиентного спуска. \n",
    "\n",
    "\n",
    "`predict(X)` - строит предсказание `y` для объектов из `X`."
   ]
  },
  {
   "cell_type": "markdown",
   "metadata": {},
   "source": [
    "### Задание 4 (2 балла)\n",
    "Добавьте в метод `fit` регуляризацию Лассо с коэффициентом `l`. Постройте график зависимости ошибки предсказания данных из синтетического набора данных от коэффициента регуляризации."
   ]
  },
  {
   "cell_type": "code",
   "execution_count": 95,
   "metadata": {},
   "outputs": [],
   "source": [
    "class GradientLR:\n",
    "    def __init__(self, alpha, iterations=10000, l=0.):\n",
    "        self.alpha = alpha\n",
    "        self.iter = iterations\n",
    "        self.l = l\n",
    "    \n",
    "    def fit(self, X, y):\n",
    "        self.w = np.random.uniform(-0.1, 0.1, X.shape[1] + 1)\n",
    "        xx = np.c_[np.full(X.shape[0], 1), X]\n",
    "        for _ in range(self.iter):\n",
    "            y_pred = np.dot(xx, self.w)\n",
    "            self.w += (2 * self.alpha * (np.dot(xx.T, y-y_pred)) - self.l * np.sign(self.w)) / xx.shape[0] / xx.shape[1]\n",
    "\n",
    "    def predict(self, X):\n",
    "        xx = np.c_[np.full(X.shape[0], 1), X]\n",
    "        return np.dot(xx, self.w)"
   ]
  },
  {
   "cell_type": "code",
   "execution_count": 112,
   "metadata": {},
   "outputs": [],
   "source": [
    "def build_plot(X_train, y_train, X_test, y_test, iterations=10000):\n",
    "    ll = np.arange(0, 0.2, 0.01)\n",
    "    ans = []\n",
    "    for l in ll:\n",
    "        regr = GradientLR(0.1, iterations=iterations, l=l)\n",
    "        regr.fit(X_train, y_train)\n",
    "        ans.append(mse(y_test, regr.predict(X_test)))\n",
    "    plt.plot(ll, ans)\n",
    "    plt.xlabel(\"Lasso l\")\n",
    "    plt.ylabel(\"MSE\")\n",
    "    plt.show()"
   ]
  },
  {
   "cell_type": "code",
   "execution_count": 105,
   "metadata": {},
   "outputs": [],
   "source": [
    "X, y = generate_synthetic(1024)\n",
    "X_train, X_test, y_train, y_test = train_test_split(X, y, train_size=0.8)"
   ]
  },
  {
   "cell_type": "code",
   "execution_count": 108,
   "metadata": {},
   "outputs": [
    {
     "name": "stdout",
     "output_type": "stream",
     "text": [
      "0.009234144251373496\n"
     ]
    },
    {
     "data": {
      "image/png": "[encoded data removed]",
      "text/plain": [
       "<Figure size 432x288 with 1 Axes>"
      ]
     },
     "metadata": {
      "needs_background": "light"
     },
     "output_type": "display_data"
    }
   ],
   "source": [
    "regr = GradientLR(0.1, iterations=10000)\n",
    "regr.fit(X_train, y_train)\n",
    "print(mse(y_test, regr.predict(X_test)))\n",
    "build_plot(X_train, y_train, X_test, y_test)"
   ]
  },
  {
   "cell_type": "markdown",
   "metadata": {},
   "source": [
    "### Задание 5 (2 балла)\n",
    "Протесируйте оба метода на данных cancer и spam, для градиентного спуска постройте график зависимости ошибки от коэффициента регуляризации. "
   ]
  },
  {
   "cell_type": "code",
   "execution_count": 116,
   "metadata": {},
   "outputs": [],
   "source": [
    "import pandas as pd\n",
    "from sklearn.preprocessing import StandardScaler\n",
    "CANCER_DATA_PATH = \"hw9_data/cancer.csv\"\n",
    "SPAM_DATA_PATH = \"hw9_data/spam.csv\"\n",
    "def read_cancer_dataset(path_to_csv):\n",
    "    # Возвращает пару из X и y. X - массив векторов. y - соответствующие векторам метки\n",
    "    df = pd.read_csv(path_to_csv, header=0)\n",
    "    y = [1 if i == 'M' else 0 for i in df[\"label\"]]\n",
    "    return df.drop(\"label\", axis=1).to_numpy(), np.array(y)\n",
    "\n",
    "def read_spam_dataset(path_to_csv):\n",
    "    # Возвращает пару из X и y. X - массив векторов. y - соответствующие векторам метки\n",
    "    df = pd.read_csv(path_to_csv, header=0)\n",
    "    y = df[\"label\"]\n",
    "    return df.drop(\"label\", axis=1).to_numpy(), np.array(y.values)\n",
    "\n",
    "X_cancer, y_cancer = read_cancer_dataset(CANCER_DATA_PATH)\n",
    "X_cancer = StandardScaler().fit_transform(X_cancer)\n",
    "#print(np.min(X_cancer), np.max(X_cancer))\n",
    "X_spam, y_spam = read_spam_dataset(SPAM_DATA_PATH)\n",
    "X_spam = StandardScaler().fit_transform(X_spam)\n",
    "#print(np.min(X_spam), np.max(X_spam))"
   ]
  },
  {
   "cell_type": "code",
   "execution_count": 117,
   "metadata": {},
   "outputs": [
    {
     "name": "stdout",
     "output_type": "stream",
     "text": [
      "NormalLR 0.059868759834403394\n",
      "GradientLR 0.060755211937598586\n"
     ]
    },
    {
     "data": {
      "image/png": "[encoded data removed]",
      "text/plain": [
       "<Figure size 432x288 with 1 Axes>"
      ]
     },
     "metadata": {
      "needs_background": "light"
     },
     "output_type": "display_data"
    }
   ],
   "source": [
    "X_train, X_test, y_train, y_test = train_test_split(X_cancer, y_cancer, train_size=0.8, shuffle=False)\n",
    "regr = NormalLR()\n",
    "regr.fit(X_train, y_train)\n",
    "print(\"NormalLR\", mse(y_test, regr.predict(X_test)))\n",
    "regr = GradientLR(0.1, iterations=10000)\n",
    "regr.fit(X_train, y_train)\n",
    "print(\"GradientLR\", mse(y_test, regr.predict(X_test)))\n",
    "build_plot(X_train, y_train, X_test, y_test, iterations=10000)"
   ]
  },
  {
   "cell_type": "code",
   "execution_count": 118,
   "metadata": {},
   "outputs": [
    {
     "name": "stdout",
     "output_type": "stream",
     "text": [
      "NormalLR 0.18996404389207405\n",
      "GradientLR 0.1894597185320024\n"
     ]
    },
    {
     "data": {
      "image/png": "[encoded data removed]",
      "text/plain": [
       "<Figure size 432x288 with 1 Axes>"
      ]
     },
     "metadata": {
      "needs_background": "light"
     },
     "output_type": "display_data"
    }
   ],
   "source": [
    "X_train, X_test, y_train, y_test = train_test_split(X_spam, y_spam, train_size=0.8, shuffle=False)\n",
    "regr = NormalLR()\n",
    "regr.fit(X_train, y_train)\n",
    "print(\"NormalLR\", mse(y_test, regr.predict(X_test)))\n",
    "regr = GradientLR(0.1, iterations=10000)\n",
    "regr.fit(X_train, y_train)\n",
    "print(\"GradientLR\", mse(y_test, regr.predict(X_test)))\n",
    "build_plot(X_train, y_train, X_test, y_test, iterations=10000)"
   ]
  },
  {
   "cell_type": "code",
   "execution_count": null,
   "metadata": {},
   "outputs": [],
   "source": []
  }
 ],
 "metadata": {
  "kernelspec": {
   "display_name": "Python 3",
   "language": "python",
   "name": "python3"
  },
  "language_info": {
   "codemirror_mode": {
    "name": "ipython",
    "version": 3
   },
   "file_extension": ".py",
   "mimetype": "text/x-python",
   "name": "python",
   "nbconvert_exporter": "python",
   "pygments_lexer": "ipython3",
   "version": "3.8.5"
  }
 },
 "nbformat": 4,
 "nbformat_minor": 2
}
